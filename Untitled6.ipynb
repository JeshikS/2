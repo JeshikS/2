{
  "nbformat": 4,
  "nbformat_minor": 0,
  "metadata": {
    "colab": {
      "provenance": [],
      "authorship_tag": "ABX9TyNUf805/cqkG4oRGEvMWXM5",
      "include_colab_link": true
    },
    "kernelspec": {
      "name": "python3",
      "display_name": "Python 3"
    },
    "language_info": {
      "name": "python"
    }
  },
  "cells": [
    {
      "cell_type": "markdown",
      "metadata": {
        "id": "view-in-github",
        "colab_type": "text"
      },
      "source": [
        "<a href=\"https://colab.research.google.com/github/JeshikS/2/blob/main/Untitled6.ipynb\" target=\"_parent\"><img src=\"https://colab.research.google.com/assets/colab-badge.svg\" alt=\"Open In Colab\"/></a>"
      ]
    },
    {
      "cell_type": "code",
      "execution_count": 1,
      "metadata": {
        "id": "PSkG_njyOEPi"
      },
      "outputs": [],
      "source": [
        "import numpy as np\n",
        "import pandas as pd\n",
        "from sklearn.linear_model import LogisticRegression\n",
        "from sklearn.model_selection import train_test_split\n",
        "import warnings\n",
        "import pickle"
      ]
    },
    {
      "cell_type": "code",
      "source": [
        "warnings.filterwarnings(\"ignore\")\n",
        "\n",
        "data = pd.read_csv(\"Forest_fire.csv\")\n",
        "data = np.array(data)"
      ],
      "metadata": {
        "id": "rY4tgnQbSKJz"
      },
      "execution_count": 2,
      "outputs": []
    },
    {
      "cell_type": "code",
      "source": [
        "X = data[1:, 1:-1]\n",
        "y = data[1:, -1]\n",
        "y = y.astype('int')\n",
        "X = X.astype('int')\n",
        "# print(X,y)\n",
        "X_train, X_test, y_train, y_test = train_test_split(X, y, test_size=0.3, random_state=0)\n",
        "log_reg = LogisticRegression()\n"
      ],
      "metadata": {
        "id": "LcAxQKyuUCVM"
      },
      "execution_count": 3,
      "outputs": []
    },
    {
      "cell_type": "code",
      "source": [
        "log_reg.fit(X_train, y_train)\n",
        "\n",
        "inputt=[int(x) for x in \"45 32 60\".split(' ')]\n",
        "final=[np.array(inputt)]\n",
        "\n",
        "b = log_reg.predict_proba(final)"
      ],
      "metadata": {
        "id": "RqP2MrJ5vxTB"
      },
      "execution_count": 4,
      "outputs": []
    },
    {
      "cell_type": "code",
      "source": [
        "pickle.dump(log_reg,open('model.pkl','wb'))"
      ],
      "metadata": {
        "id": "mLslPZN3vx72"
      },
      "execution_count": 5,
      "outputs": []
    }
  ]
}